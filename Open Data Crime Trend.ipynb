{
 "cells": [
  {
   "cell_type": "markdown",
   "id": "6f802f9d-84c5-4106-b1ec-04df14b9a9f7",
   "metadata": {},
   "source": [
    "# Open Crime Data Plot\n",
    "\n",
    "This notebook produces a stacked-area plot of crime by month. It uses the more comprehensive open data [published](https://geodash.vpd.ca/opendata/) by the VPD."
   ]
  },
  {
   "cell_type": "code",
   "execution_count": null,
   "id": "533a49a0-f340-4061-b3bb-3b45d8e35724",
   "metadata": {},
   "outputs": [],
   "source": [
    "import pandas as pd\n",
    "import plotly.express as px\n",
    "import plotly.graph_objects as go"
   ]
  },
  {
   "cell_type": "code",
   "execution_count": null,
   "id": "2b9f7a97-0151-4e15-95eb-416eaf337f89",
   "metadata": {},
   "outputs": [],
   "source": [
    "neighbourhood = \"Vancouver\""
   ]
  },
  {
   "cell_type": "code",
   "execution_count": null,
   "id": "7cede4c9-ee2f-4532-a280-ae3561b75816",
   "metadata": {},
   "outputs": [],
   "source": [
    "# df = pd.read_csv(\"crime-data.csv\")\n",
    "\n",
    "# df.to_parquet(\"crime-data.parquet\")\n",
    "\n",
    "df = pd.read_parquet(\"crime-data.parquet\")"
   ]
  },
  {
   "cell_type": "code",
   "execution_count": null,
   "id": "56d1cf9b-30c2-4892-8cbb-2a68f1bef43a",
   "metadata": {},
   "outputs": [],
   "source": [
    "if neighbourhood in df[\"NEIGHBOURHOOD\"].unique():\n",
    "    df = df[df[\"NEIGHBOURHOOD\"] == neighbourhood]\n",
    "final_df = df.groupby([\"YEAR\", \"MONTH\", \"TYPE\"])[[\"DAY\"]].count().rename(\n",
    "    columns={\"DAY\": \"Reported Crimes\"},\n",
    "    index={\n",
    "        1: \"January\",\n",
    "        2: \"February\",\n",
    "        3: \"March\",\n",
    "        4: \"April\",\n",
    "        5: \"May\",\n",
    "        6: \"June\",\n",
    "        7: \"July\",\n",
    "        8: \"August\",\n",
    "        9: \"September\",\n",
    "        10: \"October\",\n",
    "        11: \"November\",\n",
    "        12: \"December\",\n",
    "    }\n",
    ").reset_index().rename(columns={\"TYPE\": \"Category\"})\n",
    "\n",
    "final_df[\"Date\"] =  pd.to_datetime(final_df[\"MONTH\"] + \"-\" + final_df[\"YEAR\"].astype(str)) + pd.tseries.offsets.MonthEnd(1)\n",
    "final_df = final_df.drop(columns=[\"MONTH\", \"YEAR\"])"
   ]
  },
  {
   "cell_type": "code",
   "execution_count": null,
   "id": "885c42c5-be2c-4504-99ec-7762710a6712",
   "metadata": {},
   "outputs": [],
   "source": [
    "# px.colors.sequential.Teal\n",
    "# px.colors.sequential.Purp\n",
    "# px.colors.sequential.Blues"
   ]
  },
  {
   "cell_type": "code",
   "execution_count": null,
   "id": "80687c6d-56b5-467a-9486-97d95b3d853f",
   "metadata": {},
   "outputs": [],
   "source": [
    "group = {\n",
    "    \"Vehicle Collision or Pedestrian Struck (with Injury)\": \"Violent Crime\",\n",
    "    \"Vehicle Collision or Pedestrian Struck (with Fatality)\": \"Violent Crime\",\n",
    "    \"Offence Against a Person\": \"Violent Crime\",\n",
    "    \"Homicide\": \"Violent Crime\",\n",
    "    \"Break and Enter Commercial\": \"Property Crime\", \n",
    "    \"Break and Enter Residential/Other\": \"Property Crime\",\n",
    "    \"Theft from Vehicle\": \"Property Crime\",\n",
    "    \"Theft of Vehicle\": \"Property Crime\",\n",
    "    \"Theft of Bicycle\": \"Property Crime\",\n",
    "    \"Other Theft\": \"Property Crime\",\n",
    "    \"Mischief\": \"Property Crime\",\n",
    "    }"
   ]
  },
  {
   "cell_type": "code",
   "execution_count": null,
   "id": "aee5a2a5-a5d9-45bb-bb6b-9ed8012cea54",
   "metadata": {},
   "outputs": [],
   "source": [
    "fig = px.area(\n",
    "    final_df, \n",
    "    x=\"Date\", \n",
    "    y=\"Reported Crimes\", \n",
    "    color=\"Category\", \n",
    "    title=f\"<b>Crime in {neighbourhood}</b> <br><a href='https://geodash.vpd.ca/opendata/'>Source: Vancouver Police Department</a>\",\n",
    "    template=\"ggplot2\",\n",
    "    color_discrete_map={\n",
    "        \"Vehicle Collision or Pedestrian Struck (with Injury)\": 'rgb(228, 199, 241)',\n",
    "        \"Vehicle Collision or Pedestrian Struck (with Fatality)\": 'rgb(185, 152, 221)',\n",
    "        \"Offence Against a Person\": 'rgb(159, 130, 206)',\n",
    "        \"Homicide\": 'rgb(99, 88, 159)',\n",
    "        \"Mischief\": 'rgb(209, 238, 234)',\n",
    "        \"Other Theft\": 'rgb(168, 219, 217)',\n",
    "        \"Theft from Vehicle\": 'rgb(133, 196, 201)', \n",
    "        \"Break and Enter Commercial\": 'rgb(104, 171, 184)',\n",
    "        \"Break and Enter Residential/Other\": 'rgb(79, 144, 166)',\n",
    "        \"Theft of Vehicle\": 'rgb(59, 115, 143)',\n",
    "        \"Theft of Bicycle\": 'rgb(42, 86, 116)',\n",
    "        \n",
    "    },\n",
    "    category_orders={\n",
    "        \"Category\": [\n",
    "            \"Vehicle Collision or Pedestrian Struck (with Injury)\",\n",
    "            \"Vehicle Collision or Pedestrian Struck (with Fatality)\",\n",
    "            \"Offence Against a Person\",\n",
    "            \"Homicide\",\n",
    "            \"Mischief\",\n",
    "            \"Other Theft\",\n",
    "            \"Theft from Vehicle\",\n",
    "            \"Break and Enter Commercial\", \n",
    "            \"Break and Enter Residential/Other\",\n",
    "            \"Theft of Vehicle\",\n",
    "            \"Theft of Bicycle\",\n",
    "        ]\n",
    "    },\n",
    ")\n",
    "# use the legend grouping\n",
    "# for trace in fig.data:\n",
    "#     trace[\"legendgroup\"] = group[trace.name]\n",
    "#     trace[\"legendgrouptitle_text\"]=group[trace.name]\n",
    "\n",
    "fig.add_trace(\n",
    "    go.Scatter(\n",
    "        x=['2020-03-17','2020-03-17'],\n",
    "        y=[0,3400],\n",
    "        mode='lines',\n",
    "        line=dict(dash='dash', color=\"grey\"), \n",
    "        name='COVID-19 Emergency Declared',\n",
    "        visible=False,\n",
    "    )\n",
    ")\n",
    "\n",
    "fig.update_xaxes(\n",
    "    rangeslider=dict(\n",
    "            visible=True\n",
    "        ),\n",
    "    rangeselector=dict(\n",
    "            buttons=list([\n",
    "                dict(count=6,\n",
    "                     label=\"6m\",\n",
    "                     step=\"month\",\n",
    "                     stepmode=\"backward\"),\n",
    "                dict(count=3,\n",
    "                     label=\"3y\",\n",
    "                     step=\"year\",\n",
    "                     stepmode=\"backward\"),\n",
    "                dict(count=5,\n",
    "                     label=\"5y\",\n",
    "                     step=\"year\",\n",
    "                     stepmode=\"backward\"),\n",
    "                dict(count=10,\n",
    "                     label=\"10y\",\n",
    "                     step=\"year\",\n",
    "                     stepmode=\"backward\"),\n",
    "                dict(step='all')\n",
    "            ])\n",
    "        ),\n",
    "    range=[\"2018-02-01\", \"2022-04-30\"],\n",
    "    type=\"date\")\n",
    "fig.write_html('index.html')\n",
    "# fig.write_image(\"crime_plot.png\", height=1000, width=1500)\n",
    "fig.update_layout(height=800)\n",
    "fig.show()"
   ]
  },
  {
   "cell_type": "code",
   "execution_count": null,
   "id": "89f13e52-d241-4805-afdc-3b2e05a13ea1",
   "metadata": {},
   "outputs": [],
   "source": []
  },
  {
   "cell_type": "code",
   "execution_count": null,
   "id": "e1bdb672-a19f-4499-a3ec-87dd8a7a9b7d",
   "metadata": {},
   "outputs": [],
   "source": []
  }
 ],
 "metadata": {
  "kernelspec": {
   "display_name": "Python 3 (ipykernel)",
   "language": "python",
   "name": "python3"
  },
  "language_info": {
   "codemirror_mode": {
    "name": "ipython",
    "version": 3
   },
   "file_extension": ".py",
   "mimetype": "text/x-python",
   "name": "python",
   "nbconvert_exporter": "python",
   "pygments_lexer": "ipython3",
   "version": "3.8.10"
  }
 },
 "nbformat": 4,
 "nbformat_minor": 5
}
