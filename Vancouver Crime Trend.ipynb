{
 "cells": [
  {
   "cell_type": "markdown",
   "metadata": {},
   "source": [
    "# Vancouver crime trends"
   ]
  },
  {
   "cell_type": "code",
   "execution_count": null,
   "metadata": {},
   "outputs": [],
   "source": [
    "import numpy as np\n",
    "import pandas as pd\n",
    "import plotly.express as px\n",
    "import plotly.graph_objects as go"
   ]
  },
  {
   "cell_type": "code",
   "execution_count": null,
   "metadata": {},
   "outputs": [],
   "source": [
    "df = pd.read_csv('raw-data.csv')\n",
    "dti = pd.to_datetime(df['Month'])\n",
    "df['Month'] = dti"
   ]
  },
  {
   "cell_type": "code",
   "execution_count": null,
   "metadata": {},
   "outputs": [],
   "source": [
    "baseline = df[['Violent','Property','Other']].mean()"
   ]
  },
  {
   "cell_type": "code",
   "execution_count": null,
   "metadata": {},
   "outputs": [],
   "source": [
    "mdf = df.melt(id_vars=['Month'],var_name='Type',value_name='Number of crimes')"
   ]
  },
  {
   "cell_type": "code",
   "execution_count": null,
   "metadata": {},
   "outputs": [],
   "source": [
    "fig = px.bar(mdf,x='Month',y='Number of crimes',color='Type',\n",
    "             title='<b>Crime in Vancouver</b> <br><a href=\"https://vancouver.ca/police/organization/planning-research-audit/district-statistics.html\">Source: VPD Monthly Reports</a>')\n",
    "fig.add_trace(go.Scatter(x=['2020-03-17','2020-03-17'],y=[0,6000],mode='lines',line=dict(dash='dash'), name='COVID-19 Emergency Declared'))\n",
    "fig.update_yaxes(range=[0,6000])\n",
    "fig.write_html('index.html')\n",
    "#fig.show()"
   ]
  },
  {
   "cell_type": "code",
   "execution_count": null,
   "metadata": {},
   "outputs": [],
   "source": []
  }
 ],
 "metadata": {
  "kernelspec": {
   "display_name": "Python 3 (ipykernel)",
   "language": "python",
   "name": "python3"
  },
  "language_info": {
   "codemirror_mode": {
    "name": "ipython",
    "version": 3
   },
   "file_extension": ".py",
   "mimetype": "text/x-python",
   "name": "python",
   "nbconvert_exporter": "python",
   "pygments_lexer": "ipython3",
   "version": "3.8.10"
  }
 },
 "nbformat": 4,
 "nbformat_minor": 4
}
